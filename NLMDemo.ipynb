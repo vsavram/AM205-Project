{
 "cells": [
  {
   "cell_type": "markdown",
   "metadata": {
    "cell_id": "00000-244a20a3-5850-49a8-b3c4-47c8dd90e3f4",
    "deepnote_cell_type": "markdown",
    "output_cleared": false,
    "tags": []
   },
   "source": [
    "# AM207 Final Project\n",
    "\n",
    "Paper: *Learned Uncertainty-Aware (LUNA) Bases for Bayesian Regression using Multi-Headed Auxiliary Networks*"
   ]
  },
  {
   "cell_type": "markdown",
   "metadata": {
    "cell_id": "00001-60483c71-d139-4275-a2dd-d5cb90d94d7f",
    "deepnote_cell_type": "markdown",
    "output_cleared": false,
    "tags": []
   },
   "source": [
    "207Notes:\n",
    " - (sneaky 205 q) \n",
    "    - minimum of trace in obj function\n",
    "    - consider step size stability in the cosine similar FD (larger h)\n",
    "    - ADAM vs SGD w/ momentum vs cyclic annealling of learning rate\n",
    "\n",
    " - NOTE: NLM gets comparable to LUNA if there are more features"
   ]
  },
  {
   "cell_type": "code",
   "execution_count": 1,
   "metadata": {
    "cell_id": "00001-82b15dd3-3681-4233-b273-015b39362a48",
    "deepnote_cell_type": "code",
    "execution_millis": 1,
    "execution_start": 1606170405093,
    "output_cleared": false,
    "source_hash": "7ff14c81",
    "tags": []
   },
   "outputs": [],
   "source": [
    "from autograd import numpy as np\n",
    "from autograd import grad\n",
    "from autograd.misc.optimizers import adam, sgd\n",
    "from autograd import scipy as sp\n",
    "import autograd.numpy.random as npr\n",
    "import pandas as pd\n",
    "import numpy\n",
    "import matplotlib.pyplot as plt\n",
    "import sys\n",
    "\n",
    "# our libraries\n",
    "import utils\n",
    "from nlm import NLM\n",
    "from feed_forward import Feedforward\n",
    "import bayes_helpers as bh"
   ]
  },
  {
   "cell_type": "markdown",
   "metadata": {
    "cell_id": "00003-3de52f4a-e308-4308-bb56-64301fc72795",
    "deepnote_cell_type": "markdown",
    "tags": []
   },
   "source": [
    "### Generate Data"
   ]
  },
  {
   "cell_type": "code",
   "execution_count": 2,
   "metadata": {
    "cell_id": "00002-da662230-83a9-4a83-a071-abb21b920110",
    "deepnote_cell_type": "code",
    "execution_millis": 0,
    "execution_start": 1606170314215,
    "output_cleared": false,
    "source_hash": "4a45d5d",
    "tags": []
   },
   "outputs": [],
   "source": [
    "\n",
    "gap = True\n",
    "if gap == True:\n",
    "    number_of_points = 200\n",
    "    x_train, y_train, x_test = utils.generate_data(number_of_points)\n",
    "else:\n",
    "    df = pd.read_csv(\"HW8_data.csv\")\n",
    "    x_train = np.array(df[\"x\"])\n",
    "    y_train = np.array(df[\"y\"])\n",
    "    x_test = np.linspace(x_train.min()-1,x_train.max()+1,200)\n",
    "\n",
    "x_train = x_train.reshape((1, -1))\n",
    "y_train = y_train.reshape((1, -1))\n",
    "x_test = x_test.reshape((1, -1))\n",
    "\n",
    "\n"
   ]
  },
  {
   "cell_type": "markdown",
   "metadata": {
    "cell_id": "00005-e690ac55-0562-4a71-8cb1-296aa46250bb",
    "deepnote_cell_type": "markdown",
    "tags": []
   },
   "source": [
    "#### Define NN Hyperparameters"
   ]
  },
  {
   "cell_type": "code",
   "execution_count": 12,
   "metadata": {
    "cell_id": "00004-6632e33c-4eea-427c-9d17-87c54912c224",
    "deepnote_cell_type": "code",
    "execution_millis": 1,
    "execution_start": 1606170316169,
    "output_cleared": false,
    "source_hash": "e5e7c731",
    "tags": []
   },
   "outputs": [],
   "source": [
    "###relu activation\n",
    "activation_fn_type = 'relu'\n",
    "activation_fn = lambda x: np.maximum(np.zeros(x.shape), x)\n",
    "\n",
    "\n",
    "###neural network model design choices\n",
    "width = 7\n",
    "hidden_layers = 1\n",
    "input_dim = 1\n",
    "output_dim = 1\n",
    "\n",
    "architecture = {'width': width,\n",
    "               'hidden_layers': hidden_layers,\n",
    "               'input_dim': input_dim,\n",
    "               'output_dim': output_dim,\n",
    "               'activation_fn_type': 'relu',\n",
    "               'activation_fn_params': 'rate=1',\n",
    "               'activation_fn': activation_fn}\n",
    "\n",
    "#set random state to make the experiments replicable\n",
    "rand_state = 0\n",
    "random = np.random.RandomState(rand_state)\n",
    "\n",
    "###define design choices in gradient descent\n",
    "params = {'step_size':1e-3, \n",
    "          'max_iteration':5000, \n",
    "          'random_restarts':1,\n",
    "          'optimizer':'adam'}\n"
   ]
  },
  {
   "cell_type": "markdown",
   "metadata": {
    "cell_id": "00006-092dfa6a-3262-4a8f-b4b1-f07a67eeacc6",
    "deepnote_cell_type": "markdown",
    "tags": []
   },
   "source": [
    "### Run Vanilla Nueral Network"
   ]
  },
  {
   "cell_type": "code",
   "execution_count": 4,
   "metadata": {
    "cell_id": "00005-9ecfb438-c35a-48c3-b29e-107f9e825364",
    "deepnote_cell_type": "code",
    "execution_millis": 23340,
    "execution_start": 1606170317786,
    "output_cleared": false,
    "source_hash": "acf6df87",
    "tags": []
   },
   "outputs": [
    {
     "name": "stdout",
     "output_type": "stream",
     "text": [
      " Iteration 14000 lower bound 46.95311148585835; gradient mag: 3.89735926292225845(200, 1)\n"
     ]
    },
    {
     "data": {
      "image/png": "[encoded data removed]",
      "text/plain": [
       "<Figure size 432x288 with 1 Axes>"
      ]
     },
     "metadata": {
      "needs_background": "light"
     },
     "output_type": "display_data"
    }
   ],
   "source": [
    "utils.run_toy_nn(Feedforward,architecture,params,random,x_train,y_train,x_test)"
   ]
  },
  {
   "cell_type": "markdown",
   "metadata": {
    "cell_id": "00008-3ff41d87-f57f-4dfb-a174-cde811f0ea9a",
    "deepnote_cell_type": "markdown",
    "tags": []
   },
   "source": [
    "### NLM Demo"
   ]
  },
  {
   "cell_type": "code",
   "execution_count": 5,
   "metadata": {
    "cell_id": "00000-f0eaac6f-fe09-47ff-8d9b-6b57b7ca5d3e",
    "deepnote_cell_type": "code",
    "execution_millis": 3,
    "execution_start": 1606170341129,
    "output_cleared": false,
    "source_hash": "a5279be9",
    "tags": []
   },
   "outputs": [],
   "source": [
    "# test\n",
    "prior_var = 1.0\n",
    "y_var = 2.0\n",
    "test_nlm = NLM(prior_var,y_var, architecture, random_state = np.random.RandomState(0))"
   ]
  },
  {
   "cell_type": "code",
   "execution_count": 9,
   "metadata": {
    "cell_id": "00005-3b5e8825-04a1-4a79-80e0-44a0bbabf7d5",
    "deepnote_cell_type": "code",
    "execution_millis": 1380,
    "execution_start": 1606170341134,
    "output_cleared": false,
    "source_hash": "c8fdccd4",
    "tags": []
   },
   "outputs": [
    {
     "name": "stdout",
     "output_type": "stream",
     "text": [
      " Iteration 4000 lower bound 46.95321380406209; gradient mag: 3.9897022489221218\n",
      "Done Training\n"
     ]
    }
   ],
   "source": [
    "params = {'step_size':1e-3, \n",
    "          'max_iteration':5000, \n",
    "          'random_restarts':1,\n",
    "          'optimizer':'adam'}\n",
    "test_nlm.train(x_train,y_train, params)"
   ]
  },
  {
   "cell_type": "code",
   "execution_count": 10,
   "metadata": {
    "cell_id": "00011-1e248a0b-2711-4319-a408-190b228796be",
    "deepnote_cell_type": "code",
    "execution_millis": 37,
    "execution_start": 1606170368749,
    "output_cleared": false,
    "source_hash": "c1a17f3",
    "tags": []
   },
   "outputs": [],
   "source": [
    "posterior_predictives, posterior_predictive_samples = test_nlm.predict(x_test)"
   ]
  },
  {
   "cell_type": "code",
   "execution_count": 11,
   "metadata": {
    "cell_id": "00013-c0577f9a-c72e-4bbb-8ab5-0eb12eb64c22",
    "deepnote_cell_type": "code",
    "execution_millis": 233,
    "execution_start": 1606170409213,
    "output_cleared": false,
    "source_hash": "2d84a433",
    "tags": []
   },
   "outputs": [
    {
     "data": {
      "image/png": "[encoded data removed]",
      "text/plain": [
       "<Figure size 432x288 with 1 Axes>"
      ]
     },
     "metadata": {
      "needs_background": "light"
     },
     "output_type": "display_data"
    }
   ],
   "source": [
    "bh.viz_pp_samples(x_train, y_train,x_test.flatten(),posterior_predictive_samples,\"NLM test\")"
   ]
  },
  {
   "cell_type": "code",
   "execution_count": null,
   "metadata": {
    "cell_id": "00013-77503acf-56de-41d3-a8b5-cdbfb92155f6",
    "deepnote_cell_type": "code",
    "execution_millis": 2,
    "execution_start": 1605905735712,
    "output_cleared": false,
    "source_hash": "b623e53d",
    "tags": []
   },
   "outputs": [],
   "source": []
  },
  {
   "cell_type": "markdown",
   "metadata": {
    "cell_id": "00015-5661d42c-e6eb-4d20-b17e-1b0bea0fc4e7",
    "deepnote_cell_type": "markdown",
    "output_cleared": false,
    "tags": []
   },
   "source": []
  },
  {
   "cell_type": "markdown",
   "metadata": {
    "cell_id": "00015-4e633ba0-1ff6-4a2e-b8b0-dcb4efb5f91f",
    "deepnote_cell_type": "markdown",
    "output_cleared": false,
    "tags": []
   },
   "source": []
  }
 ],
 "metadata": {
  "deepnote_execution_queue": [],
  "deepnote_notebook_id": "bd9b06a9-900b-4258-b9d3-f28f55059097",
  "kernelspec": {
   "display_name": "Python 3",
   "language": "python",
   "name": "python3"
  },
  "language_info": {
   "codemirror_mode": {
    "name": "ipython",
    "version": 3
   },
   "file_extension": ".py",
   "mimetype": "text/x-python",
   "name": "python",
   "nbconvert_exporter": "python",
   "pygments_lexer": "ipython3",
   "version": "3.7.3"
  }
 },
 "nbformat": 4,
 "nbformat_minor": 4
}
