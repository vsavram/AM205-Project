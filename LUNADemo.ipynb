{
 "cells": [
  {
   "cell_type": "code",
   "execution_count": 1,
   "metadata": {
    "cell_id": "00001-c8e2dae6-b4b8-4ffb-a2ea-84c5c3269b13",
    "deepnote_cell_type": "code",
    "execution_millis": 1227,
    "execution_start": 1607545561519,
    "output_cleared": false,
    "source_hash": "8c29d073",
    "tags": []
   },
   "outputs": [],
   "source": [
    "# import standard libraries\n",
    "from autograd import numpy as np\n",
    "from autograd import grad\n",
    "from autograd.misc.optimizers import adam, sgd\n",
    "from autograd import scipy as sp\n",
    "import autograd.numpy.random as npr\n",
    "import pandas as pd\n",
    "import numpy\n",
    "import matplotlib.pyplot as plt\n",
    "import sys\n",
    "import time\n",
    "\n",
    "# import our libraries\n",
    "import bayes_helpers as bh\n",
    "from utils import generate_data, run_toy_nn\n",
    "from feed_forward import Feedforward\n",
    "from nlm import NLM\n",
    "from luna import LUNA"
   ]
  },
  {
   "cell_type": "markdown",
   "metadata": {
    "cell_id": "00003-eb8e53a0-817c-4aec-9943-931248ffc58c",
    "deepnote_cell_type": "markdown",
    "output_cleared": false,
    "tags": []
   },
   "source": [
    "### Generate Cubic Dataset\n",
    "\n",
    "Generates 100 datapoints for train and 100 points for test according to the function\n",
    "\n",
    "$$y = \\frac{1}{2}x^3 + \\epsilon$$\n",
    "\n",
    "$$\\epsilon \\sim N(0, 3^2)$$"
   ]
  },
  {
   "cell_type": "code",
   "execution_count": 2,
   "metadata": {
    "cell_id": "00004-849fb954-2d0d-4439-8d0d-1f9e85724789",
    "deepnote_cell_type": "code",
    "execution_millis": 0,
    "execution_start": 1607545562808,
    "output_cleared": false,
    "source_hash": "189029f4",
    "tags": []
   },
   "outputs": [],
   "source": [
    "x_train, y_train, x_test = generate_data()"
   ]
  },
  {
   "cell_type": "markdown",
   "metadata": {
    "cell_id": "00003-fff6b3d1-9ca1-4ef2-b5a9-16a3e221bb45",
    "deepnote_cell_type": "markdown",
    "output_cleared": false,
    "tags": []
   },
   "source": [
    "### Define LUNA AND NLM Hyperameters"
   ]
  },
  {
   "cell_type": "code",
   "execution_count": 14,
   "metadata": {
    "cell_id": "00004-3e33c837-e900-464d-83ae-4a9309a0ef86",
    "deepnote_cell_type": "code",
    "execution_millis": 1,
    "execution_start": 1607545572232,
    "output_cleared": false,
    "source_hash": "cbc0f147",
    "tags": []
   },
   "outputs": [],
   "source": [
    "######################\n",
    "### COMMMON PARAMS####\n",
    "######################\n",
    "\n",
    "\n",
    "####  activation function ####\n",
    "activation_fn_type = 'relu'\n",
    "activation_fn = lambda x: np.maximum(np.zeros(x.shape), x)\n",
    "\n",
    "#### optimization parameters ####\n",
    "optimization_params = {'step_size':1e-3, \n",
    "          'max_iteration':10000, \n",
    "          'random_restarts':1,\n",
    "          'optimizer':'adam'}\n",
    "\n",
    "#### model parameters #####\n",
    "prior_variance = 1 # chosen in the paper. declared \"reasonable\". who decided this\n",
    "y_noise_variance = 9 # needs to match what the dataset itself is\n",
    "\n",
    "#### other ####\n",
    "random = np.random.RandomState(0)\n",
    "\n",
    "########################\n",
    "#### LUNA SPECIFIC  ####\n",
    "########################\n",
    "\n",
    "luna_architecture = {'width': 50,\n",
    "            'hidden_layers': 2,\n",
    "            'input_dim': 1,\n",
    "            'output_dim': 50, #number of auxiliary functions, # note, in NLM, below, we change to 1\n",
    "            'activation_fn_type': activation_fn_type,\n",
    "            'activation_fn_params': 'rate=1',\n",
    "            'activation_fn': activation_fn}\n",
    "\n",
    "regularization_param_luna = 1#1e-1 # in the paper they searched over 1e-3,...,1e3 and chose 1e-1 for regularization\n",
    "\n",
    "similarity_param = 1e0 # in the paper they searched over 1e-3,...,1e3 and chose 1e0 for similarity\n",
    "\n",
    "########################\n",
    "#### NLM SPECIFIC  ####\n",
    "########################\n",
    "\n",
    "nlm_architecture = luna_architecture\n",
    "nlm_architecture[\"output_dim\"] = 1\n",
    "regularization_param_nlm = 8.37 #they chose this in the paper, what a beautifully specific number\n",
    "\n"
   ]
  },
  {
   "cell_type": "markdown",
   "metadata": {},
   "source": [
    "### Train NLM"
   ]
  },
  {
   "cell_type": "code",
   "execution_count": 5,
   "metadata": {
    "cell_id": "00006-b1ea0118-8f50-4f06-83f5-e141bfb33d0a",
    "deepnote_cell_type": "code",
    "execution_millis": 39360,
    "execution_start": 1607545574991,
    "output_cleared": false,
    "source_hash": "94272f74",
    "tags": []
   },
   "outputs": [
    {
     "name": "stdout",
     "output_type": "stream",
     "text": [
      " Iteration 9900 lower bound 67.42090649945163; gradient mag: 2.47523840215917629\n",
      "Done Training\n",
      "time: 1138.186 seconds\n"
     ]
    }
   ],
   "source": [
    "t0 = time.time()\n",
    "nlm = NLM(prior_variance,y_noise_variance, regularization_param_nlm, nlm_architecture, random)\n",
    "nlm.train(x_train,y_train, optimization_params)\n",
    "print(f\"time: {np.round(time.time() - t0, 3)} seconds\")"
   ]
  },
  {
   "cell_type": "markdown",
   "metadata": {},
   "source": [
    "### Train LUNA"
   ]
  },
  {
   "cell_type": "code",
   "execution_count": 16,
   "metadata": {
    "cell_id": "00005-3077264e-dc34-4937-9e4a-516ae76a3360",
    "deepnote_cell_type": "code",
    "execution_millis": 3583065,
    "execution_start": 1607545614355,
    "output_cleared": false,
    "source_hash": "b31a2d01",
    "tags": []
   },
   "outputs": [
    {
     "name": "stdout",
     "output_type": "stream",
     "text": [
      " Iteration 9900 lower bound -336008.1376783085; gradient mag: 1213.38035934395635\n",
      "Done Training\n",
      "time: 1132.393 seconds\n"
     ]
    }
   ],
   "source": [
    "t0 = time.time()\n",
    "luna = LUNA(prior_variance, y_noise_variance, regularization_param_luna, similarity_param, luna_architecture, random)\n",
    "luna.train(x_train, y_train, optimization_params)\n",
    "print(f\"time: {np.round(time.time() - t0, 3)} seconds\")"
   ]
  },
  {
   "cell_type": "markdown",
   "metadata": {},
   "source": [
    "### Compare Results\n",
    "- notice they have identical post processing function calls"
   ]
  },
  {
   "cell_type": "code",
   "execution_count": 17,
   "metadata": {},
   "outputs": [
    {
     "data": {
      "image/png": "[encoded data removed]",
      "text/plain": [
       "<Figure size 432x288 with 1 Axes>"
      ]
     },
     "metadata": {
      "needs_background": "light"
     },
     "output_type": "display_data"
    },
    {
     "data": {
      "image/png": "[encoded data removed]",
      "text/plain": [
       "<Figure size 432x288 with 1 Axes>"
      ]
     },
     "metadata": {
      "needs_background": "light"
     },
     "output_type": "display_data"
    }
   ],
   "source": [
    "# fig, ax = plt.subplots(1,2, figsize = (12, 6))\n",
    "i = 0\n",
    "for name, model in {\"Luna\":luna,\"NLM\":nlm}.items():\n",
    "    posterior_predictions, posterior_predictive_samples = model.predict(x_test)\n",
    "    \n",
    "    # Compute the 97.5 th percentile of the posterior predictive predictions\n",
    "    pp_upper = np.percentile(posterior_predictive_samples, 97.5, axis=0)\n",
    "\n",
    "    # Compute the 2.5 th percentile of the posterior predictive predictions\n",
    "    pp_lower = np.percentile(posterior_predictive_samples, 2.5, axis=0)\n",
    "\n",
    "    # Compute the 50 th percentile of the posterior predictive predictions\n",
    "    pp_mean = np.mean(posterior_predictive_samples, axis=0)\n",
    "    \n",
    "    plt.plot(x_test.flatten(), pp_mean, color='red') # visualize the mean of the posterior predictive\n",
    "    plt.fill_between(x_test.flatten(), pp_upper, pp_lower, color='red', alpha=0.4, label='95% Conf. Interval') # visualize the 95% posterior predictive interval\n",
    "    plt.scatter(x_train, y_train, color='black', label='training data') # visualize the training data\n",
    "    plt.legend()\n",
    "    plt.title(name)\n",
    "    plt.ylim([-150, 150])\n",
    "    plt.show()\n",
    "    \n",
    "    #bh.viz_pp_samples(x_train, y_train,x_test.flatten(),posterior_predictive_samples,name)"
   ]
  },
  {
   "cell_type": "markdown",
   "metadata": {},
   "source": []
  },
  {
   "cell_type": "markdown",
   "metadata": {
    "cell_id": "00010-f4715184-0c86-4c5d-a0b2-eed831b53633",
    "deepnote_cell_type": "markdown",
    "tags": []
   },
   "source": [
    "other notes: \n",
    " - trained on 100 points\n",
    " "
   ]
  }
 ],
 "metadata": {
  "deepnote_execution_queue": [],
  "deepnote_notebook_id": "e62ba1f2-2f1c-412f-89e7-8b330cf4445e",
  "kernelspec": {
   "display_name": "Python 3",
   "language": "python",
   "name": "python3"
  },
  "language_info": {
   "codemirror_mode": {
    "name": "ipython",
    "version": 3
   },
   "file_extension": ".py",
   "mimetype": "text/x-python",
   "name": "python",
   "nbconvert_exporter": "python",
   "pygments_lexer": "ipython3",
   "version": "3.7.3"
  }
 },
 "nbformat": 4,
 "nbformat_minor": 4
}
