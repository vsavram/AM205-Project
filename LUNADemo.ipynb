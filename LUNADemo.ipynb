{
 "cells": [
  {
   "cell_type": "code",
   "execution_count": 1,
   "metadata": {},
   "outputs": [],
   "source": [
    "# primary author michael"
   ]
  },
  {
   "cell_type": "code",
   "execution_count": null,
   "metadata": {
    "cell_id": "00001-c8e2dae6-b4b8-4ffb-a2ea-84c5c3269b13",
    "deepnote_cell_type": "code",
    "execution_millis": 1227,
    "execution_start": 1607545561519,
    "output_cleared": false,
    "source_hash": "8c29d073",
    "tags": []
   },
   "outputs": [],
   "source": [
    "# import standard libraries\n",
    "from autograd import numpy as np\n",
    "from autograd import grad\n",
    "from autograd.misc.optimizers import adam, sgd\n",
    "from autograd import scipy as sp\n",
    "import autograd.numpy.random as npr\n",
    "import pandas as pd\n",
    "import numpy\n",
    "import matplotlib.pyplot as plt\n",
    "import sys\n",
    "import time\n",
    "\n",
    "# import our libraries\n",
    "import bayes_helpers as bh\n",
    "from utils import generate_data, run_toy_nn\n",
    "from feed_forward import Feedforward\n",
    "from nlm import NLM\n",
    "from luna import LUNA\n",
    "\n",
    "from config import *"
   ]
  },
  {
   "cell_type": "markdown",
   "metadata": {
    "cell_id": "00003-eb8e53a0-817c-4aec-9943-931248ffc58c",
    "deepnote_cell_type": "markdown",
    "output_cleared": false,
    "tags": []
   },
   "source": [
    "### Generate Cubic Dataset\n",
    "\n",
    "Generates 100 datapoints for train and 100 points for test according to the function\n",
    "\n",
    "$$y = x^3 + \\epsilon$$\n",
    "\n",
    "$$\\epsilon \\sim N(0, 3^2)$$"
   ]
  },
  {
   "cell_type": "code",
   "execution_count": null,
   "metadata": {
    "cell_id": "00004-849fb954-2d0d-4439-8d0d-1f9e85724789",
    "deepnote_cell_type": "code",
    "execution_millis": 0,
    "execution_start": 1607545562808,
    "output_cleared": false,
    "source_hash": "189029f4",
    "tags": []
   },
   "outputs": [],
   "source": [
    "x_train, y_train, x_test = generate_data(training_seed)\n",
    "#opt_params[\"max_iteration\"] = max_iterations"
   ]
  },
  {
   "cell_type": "markdown",
   "metadata": {},
   "source": [
    "### Train NLM"
   ]
  },
  {
   "cell_type": "code",
   "execution_count": null,
   "metadata": {
    "cell_id": "00006-b1ea0118-8f50-4f06-83f5-e141bfb33d0a",
    "deepnote_cell_type": "code",
    "execution_millis": 39360,
    "execution_start": 1607545574991,
    "output_cleared": false,
    "source_hash": "94272f74",
    "tags": []
   },
   "outputs": [],
   "source": [
    "t0 = time.time()\n",
    "nlm = NLM(prior_variance,y_noise_variance, regularization_param_nlm, nlm_architecture, random_seed)\n",
    "nlm.train(x_train,y_train, opt_params)\n",
    "print(f\"time: {np.round(time.time() - t0, 3)} seconds\")"
   ]
  },
  {
   "cell_type": "markdown",
   "metadata": {},
   "source": [
    "### Train LUNA"
   ]
  },
  {
   "cell_type": "code",
   "execution_count": null,
   "metadata": {
    "cell_id": "00005-3077264e-dc34-4937-9e4a-516ae76a3360",
    "deepnote_cell_type": "code",
    "execution_millis": 3583065,
    "execution_start": 1607545614355,
    "output_cleared": false,
    "source_hash": "b31a2d01",
    "tags": []
   },
   "outputs": [],
   "source": [
    "t0 = time.time()\n",
    "luna = LUNA(prior_variance, y_noise_variance, regularization_param_luna, similarity_param, luna_architecture, random_seed)\n",
    "luna.train(x_train, y_train, opt_params)\n",
    "print(f\"time: {np.round(time.time() - t0, 3)} seconds\")"
   ]
  },
  {
   "cell_type": "markdown",
   "metadata": {},
   "source": [
    "### Compare Results\n",
    "- notice they have identical post processing function calls"
   ]
  },
  {
   "cell_type": "code",
   "execution_count": null,
   "metadata": {},
   "outputs": [],
   "source": [
    "x_valid, y_valid, x_test_null = generate_data(valid_seed)\n"
   ]
  },
  {
   "cell_type": "code",
   "execution_count": null,
   "metadata": {},
   "outputs": [],
   "source": [
    "# LUNA took \n",
    "i = 0\n",
    "\n",
    "fig,ax = plt.subplots(1,2 ,figsize=(10,5))\n",
    "i = 0\n",
    "for name, model in {\"NLM\":nlm,\"LUNA\":luna}.items():\n",
    "    predictives, predictive_samples = model.predict(x_test)\n",
    "    log_l = model.get_log_l(x_train,y_train,x_valid,y_valid)\n",
    "    name = name + f\"\\n Log Likelihood: {round(log_l,2)}\"\n",
    "    ax[i]=bh.viz_pp_samples(x_train, y_train,x_test.flatten(),predictive_samples,name, ax[i])\n",
    "    \n",
    "    i +=1\n",
    "plt.legend()\n",
    "fig.savefig(\"figs/LUNA_NLM_Base.png\")"
   ]
  },
  {
   "cell_type": "markdown",
   "metadata": {},
   "source": [
    "### LUNA Over Regularized Params"
   ]
  },
  {
   "cell_type": "code",
   "execution_count": null,
   "metadata": {},
   "outputs": [],
   "source": [
    "reg_params = [0.01,0.1,1,10]\n",
    "times = []\n",
    "lunas = []\n",
    "opt_params[\"max_iteration\"] = 3500\n",
    "for reg_param in reg_params:\n",
    "    print(reg_param)\n",
    "    t0 = time.time()\n",
    "    lunai = LUNA(prior_variance, y_noise_variance, regularization_param_luna, similarity_param ,luna_architecture, random_seed)\n",
    "\n",
    "    #lunai = NLM(prior_variance, y_noise_variance, reg_param, nlm_architecture, random_seed)\n",
    "    lunai.train(x_train, y_train, opt_params)\n",
    "    lunas.append(lunai)\n",
    "    times.append(np.round(time.time() - t0, 3))"
   ]
  },
  {
   "cell_type": "code",
   "execution_count": null,
   "metadata": {},
   "outputs": [],
   "source": [
    "fig,ax = plt.subplots(2,2 ,figsize=(15,15))\n",
    "i = 0\n",
    "j= 0\n",
    "k = 0\n",
    "for model in lunas:\n",
    "    predictives, predictive_samples = model.predict(x_test)\n",
    "    log_l = model.get_log_l(x_train,y_train,x_valid,y_valid)\n",
    "    name = f\"LUNA: Reg = {reg_params[k]}\" + f\"\\n Log Likelihood: {round(log_l,2)}\" + f\"\\n Training Time: {round(times[k]/(60*60),2)} Hours\"\n",
    "    bh.viz_pp_samples(x_train, y_train,x_test.flatten(),predictive_samples,name, ax[i][j])\n",
    "    \n",
    "    j +=1\n",
    "    if j == 2:\n",
    "        i+=1\n",
    "        j =0\n",
    "    k +=1\n",
    "plt.legend()\n",
    "#plt.title (\"Tuning Regularization with 10,000 Max Iterations\")\n",
    "fig.savefig(\"figs/LUNA_reg_tune3500.png\")"
   ]
  },
  {
   "cell_type": "code",
   "execution_count": null,
   "metadata": {},
   "outputs": [],
   "source": []
  }
 ],
 "metadata": {
  "deepnote_execution_queue": [],
  "deepnote_notebook_id": "e62ba1f2-2f1c-412f-89e7-8b330cf4445e",
  "kernelspec": {
   "display_name": "Python 3",
   "language": "python",
   "name": "python3"
  },
  "language_info": {
   "codemirror_mode": {
    "name": "ipython",
    "version": 3
   },
   "file_extension": ".py",
   "mimetype": "text/x-python",
   "name": "python",
   "nbconvert_exporter": "python",
   "pygments_lexer": "ipython3",
   "version": "3.7.3"
  }
 },
 "nbformat": 4,
 "nbformat_minor": 4
}
