{
 "cells": [
  {
   "cell_type": "code",
   "execution_count": null,
   "metadata": {},
   "outputs": [],
   "source": [
    "# import standard libraries\n",
    "from autograd import numpy as np\n",
    "from autograd import grad\n",
    "from autograd.misc.optimizers import adam, sgd\n",
    "from autograd import scipy as sp\n",
    "import autograd.numpy.random as npr\n",
    "import pandas as pd\n",
    "import numpy\n",
    "import matplotlib.pyplot as plt\n",
    "import sys\n",
    "import time\n",
    "\n",
    "# import our libraries\n",
    "import bayes_helpers as bh\n",
    "from utils import generate_data, run_toy_nn\n",
    "from feed_forward import Feedforward\n",
    "from nlm import NLM\n",
    "from luna import LUNA\n",
    "from config import *"
   ]
  },
  {
   "cell_type": "markdown",
   "metadata": {
    "cell_id": "00003-fff6b3d1-9ca1-4ef2-b5a9-16a3e221bb45",
    "deepnote_cell_type": "markdown",
    "output_cleared": false,
    "tags": []
   },
   "source": [
    "### Define LUNA Hyperparameters"
   ]
  },
  {
   "cell_type": "markdown",
   "metadata": {
    "cell_id": "00003-eb8e53a0-817c-4aec-9943-931248ffc58c",
    "deepnote_cell_type": "markdown",
    "output_cleared": false,
    "tags": []
   },
   "source": [
    "### Generate Cubic Dataset\n",
    "\n",
    "Generates 100 datapoints for train and 100 points for test according to the function\n",
    "\n",
    "$$y = \\frac{1}{2}x^3 + \\epsilon$$\n",
    "\n",
    "$$\\epsilon \\sim N(0, 3^2)$$"
   ]
  },
  {
   "cell_type": "code",
   "execution_count": null,
   "metadata": {
    "cell_id": "00004-849fb954-2d0d-4439-8d0d-1f9e85724789",
    "deepnote_cell_type": "code",
    "execution_millis": 0,
    "execution_start": 1607545562808,
    "output_cleared": false,
    "source_hash": "189029f4",
    "tags": []
   },
   "outputs": [],
   "source": [
    "# list to track runtimes\n",
    "times = []\n",
    "\n",
    "# list of difference to test:\n",
    "diffs = [0.1, 0.001, 0.0001]\n",
    "\n",
    "# set max_iteration to 3500\n",
    "opt_params['max_iteration'] = real_max_iteration\n",
    "\n",
    "# initialize train and validation data\n",
    "x_train, y_train, x_test = generate_data(training_seed)\n",
    "x_valid, y_valid, _ = generate_data(valid_seed)"
   ]
  },
  {
   "cell_type": "code",
   "execution_count": null,
   "metadata": {},
   "outputs": [],
   "source": [
    "#JACK\n",
    "# Edit grad_func_specs dictionary for fixed step sizes\n",
    "\n",
    "grad_func_specs_1 = {'fixed' : 0.1}\n",
    "grad_func_specs_001 = {'fixed' : 0.001}\n",
    "grad_func_specs_0001 = {'fixed' : 0.0001}"
   ]
  },
  {
   "cell_type": "markdown",
   "metadata": {},
   "source": [
    "### Train LUNA\n",
    "\n",
    "`luna_1` uses a column of fixed step size = 0.1\n",
    "\n",
    "`luna_001` uses a column of fixed step size = 0.001\n",
    "\n",
    "`luna_0001` uses a column of fixed step size = 0.0001"
   ]
  },
  {
   "cell_type": "code",
   "execution_count": null,
   "metadata": {},
   "outputs": [],
   "source": [
    "t0 = time.time()\n",
    "luna_1 = LUNA(prior_variance, y_noise_variance, regularization_param_luna, similarity_param, luna_architecture, \n",
    "            random_seed, grad_func_specs= grad_func_specs_1)\n",
    "luna_1.train(x_train, y_train, opt_params)\n",
    "times.append(np.round(time.time() - t0, 3))\n",
    "print(f\"time: {np.round(time.time() - t0, 3)} seconds\")"
   ]
  },
  {
   "cell_type": "code",
   "execution_count": null,
   "metadata": {},
   "outputs": [],
   "source": [
    "t0 = time.time()\n",
    "luna_001 = LUNA(prior_variance, y_noise_variance, regularization_param_luna, similarity_param, luna_architecture, \n",
    "            random_seed, grad_func_specs= grad_func_specs_001)\n",
    "luna_001.train(x_train, y_train, opt_params)\n",
    "times.append(np.round(time.time() - t0, 3))\n",
    "print(f\"time: {np.round(time.time() - t0, 3)} seconds\")"
   ]
  },
  {
   "cell_type": "code",
   "execution_count": null,
   "metadata": {},
   "outputs": [],
   "source": [
    "t0 = time.time()\n",
    "luna_0001 = LUNA(prior_variance, y_noise_variance, regularization_param_luna, similarity_param, luna_architecture, \n",
    "            random_seed, grad_func_specs= grad_func_specs_0001)\n",
    "luna_0001.train(x_train, y_train, opt_params)\n",
    "times.append(np.round(time.time() - t0, 3))\n",
    "print(f\"time: {np.round(time.time() - t0, 3)} seconds\")"
   ]
  },
  {
   "cell_type": "code",
   "execution_count": null,
   "metadata": {},
   "outputs": [],
   "source": [
    "LL_scalar_delta = []\n",
    "for model in [luna_1, luna_001, luna_0001]:\n",
    "    LL_scalar_delta.append(model.get_log_l(x_train,y_train,x_valid,y_valid))"
   ]
  },
  {
   "cell_type": "code",
   "execution_count": null,
   "metadata": {},
   "outputs": [],
   "source": [
    "print('log-likelihood for Scalar Step:\\n')\n",
    "print(f'log-likelihood for size = 0.1:    {LL_scalar_delta[0]}')\n",
    "print(f'log-likelihood for size = 0.001:  {LL_scalar_delta[1]}')\n",
    "print(f'log-likelihood for size = 0.0001: {LL_scalar_delta[2]}')"
   ]
  },
  {
   "cell_type": "markdown",
   "metadata": {},
   "source": [
    "### Compare Results\n",
    "\n",
    "- Appears like they have a reduced \"uncertainty\" where we should see more.  In other words, the random step size helps to give more predictive uncertainty\n",
    "\n",
    "- Calculate MSE as a quantative metric?"
   ]
  },
  {
   "cell_type": "code",
   "execution_count": null,
   "metadata": {},
   "outputs": [],
   "source": [
    "fig,ax = plt.subplots(1,3 ,figsize=(15,5.3))\n",
    "i = 0\n",
    "for model in [luna_1, luna_001, luna_0001]:\n",
    "    predictives, predictive_samples = model.predict(x_test)\n",
    "    log_l = model.get_log_l(x_train,y_train,x_valid,y_valid)\n",
    "    name = f\"\\nLuna: Diff = {diffs[i]}\" + f\"\\n Log Likelihood: {round(log_l,2)}\" + f\"\\n Time: {round(times[i]/(60*60))} Hours\"\n",
    "    ax[i]=bh.viz_pp_samples(x_train, y_train,x_test.flatten(),predictive_samples,name, ax[i])\n",
    "    \n",
    "    i +=1\n",
    "plt.legend()\n",
    "fig.savefig(f\"figs/LUNA_fixed_finite_diff_{str(opt_params['max_iteration'])}_iterations.png\")"
   ]
  },
  {
   "cell_type": "code",
   "execution_count": null,
   "metadata": {},
   "outputs": [],
   "source": []
  }
 ],
 "metadata": {
  "kernelspec": {
   "display_name": "Python 3",
   "language": "python",
   "name": "python3"
  },
  "language_info": {
   "codemirror_mode": {
    "name": "ipython",
    "version": 3
   },
   "file_extension": ".py",
   "mimetype": "text/x-python",
   "name": "python",
   "nbconvert_exporter": "python",
   "pygments_lexer": "ipython3",
   "version": "3.7.9"
  }
 },
 "nbformat": 4,
 "nbformat_minor": 4
}
