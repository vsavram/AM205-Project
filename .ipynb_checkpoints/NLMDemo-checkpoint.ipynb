{
 "cells": [
  {
   "cell_type": "markdown",
   "metadata": {
    "cell_id": "00000-244a20a3-5850-49a8-b3c4-47c8dd90e3f4",
    "deepnote_cell_type": "markdown",
    "output_cleared": false,
    "tags": []
   },
   "source": [
    "# AM207 Final Project\n",
    "\n",
    "Paper: *Learned Uncertainty-Aware (LUNA) Bases for Bayesian Regression using Multi-Headed Auxiliary Networks*"
   ]
  },
  {
   "cell_type": "markdown",
   "metadata": {
    "cell_id": "00001-60483c71-d139-4275-a2dd-d5cb90d94d7f",
    "deepnote_cell_type": "markdown",
    "output_cleared": false,
    "tags": []
   },
   "source": [
    "207Notes:\n",
    " -  reproduce figure 6 (rows are random restarts, see main paper) with NLM 2 hidden layers 50-50\n",
    " -  new code: plot the priors\n",
    " -  verify in paper, how many iterations were done for this figure, verify data generating process\n",
    " - \n",
    " -  "
   ]
  },
  {
   "cell_type": "code",
   "execution_count": 1,
   "metadata": {
    "cell_id": "00001-82b15dd3-3681-4233-b273-015b39362a48",
    "deepnote_cell_type": "code",
    "execution_millis": 0,
    "execution_start": 1607622678968,
    "output_cleared": false,
    "source_hash": "7ff14c81",
    "tags": []
   },
   "outputs": [],
   "source": [
    "from autograd import numpy as np\n",
    "from autograd import grad\n",
    "from autograd.misc.optimizers import adam, sgd\n",
    "from autograd import scipy as sp\n",
    "import autograd.numpy.random as npr\n",
    "import pandas as pd\n",
    "import numpy\n",
    "import matplotlib.pyplot as plt\n",
    "import sys\n",
    "import time\n",
    "\n",
    "# our libraries\n",
    "import utils\n",
    "from nlm import NLM\n",
    "from feed_forward import Feedforward\n",
    "import bayes_helpers as bh\n",
    "\n",
    "#config\n",
    "from config import *"
   ]
  },
  {
   "cell_type": "markdown",
   "metadata": {
    "cell_id": "00003-3de52f4a-e308-4308-bb56-64301fc72795",
    "deepnote_cell_type": "markdown",
    "tags": []
   },
   "source": [
    "### Generate Data"
   ]
  },
  {
   "cell_type": "code",
   "execution_count": 2,
   "metadata": {
    "cell_id": "00002-da662230-83a9-4a83-a071-abb21b920110",
    "deepnote_cell_type": "code",
    "execution_millis": 7,
    "execution_start": 1607622680831,
    "output_cleared": false,
    "source_hash": "d822ff03",
    "tags": []
   },
   "outputs": [],
   "source": [
    "\n",
    "# training data\n",
    "x_train, y_train, x_test = utils.generate_data()\n",
    "\n",
    "# for model evaluation: computing log likelihood\n",
    "x_valid, y_valid, x_test_not_used = utils.generate_data()\n",
    "\n"
   ]
  },
  {
   "cell_type": "markdown",
   "metadata": {
    "cell_id": "00006-092dfa6a-3262-4a8f-b4b1-f07a67eeacc6",
    "deepnote_cell_type": "markdown",
    "tags": []
   },
   "source": [
    "### Run Vanilla Nueral Network"
   ]
  },
  {
   "cell_type": "code",
   "execution_count": 3,
   "metadata": {
    "cell_id": "00005-9ecfb438-c35a-48c3-b29e-107f9e825364",
    "deepnote_cell_type": "code",
    "execution_millis": 10757,
    "execution_start": 1607622834787,
    "output_cleared": false,
    "source_hash": "ec141069",
    "tags": []
   },
   "outputs": [
    {
     "name": "stdout",
     "output_type": "stream",
     "text": [
      " Iteration 0 lower bound 498032.7597993336; gradient mag: 1383700.5943993255\n",
      " 0.358 Seconds, Log Likilihood 9483.854783097653\n"
     ]
    },
    {
     "data": {
      "image/png": "[encoded data removed]",
      "text/plain": [
       "<Figure size 432x288 with 1 Axes>"
      ]
     },
     "metadata": {
      "needs_background": "light"
     },
     "output_type": "display_data"
    }
   ],
   "source": [
    "nn = Feedforward(nlm_architecture, random=random_seed)\n",
    "\n",
    "t0 = time.time()\n",
    "nn.fit(x_train, y_train, opt_params)\n",
    "nn_time = np.round(time.time() - t0, 3)\n",
    "\n",
    "mse = nn.objective_trace.min()\n",
    "\n",
    "print(f\"\\n {nn_time} Seconds, Log Likilihood {mse}\")\n",
    "\n",
    "#predict on the test x-values\n",
    "y_test_pred = nn.forward(nn.weights, x_test)\n",
    "\n",
    "#visualize the function learned by the neural network\n",
    "plt.scatter(x_train.flatten(), y_train.flatten(), color='black', label='data')\n",
    "plt.plot(x_test.flatten(), y_test_pred.flatten(), color='red', label='learned neural network function')\n",
    "plt.legend(loc='best')\n",
    "plt.show()\n"
   ]
  },
  {
   "cell_type": "markdown",
   "metadata": {
    "cell_id": "00008-3ff41d87-f57f-4dfb-a174-cde811f0ea9a",
    "deepnote_cell_type": "markdown",
    "tags": []
   },
   "source": [
    "### NLM Demo"
   ]
  },
  {
   "cell_type": "code",
   "execution_count": 4,
   "metadata": {
    "cell_id": "00000-f0eaac6f-fe09-47ff-8d9b-6b57b7ca5d3e",
    "deepnote_cell_type": "code",
    "execution_millis": 3,
    "execution_start": 1607622847361,
    "output_cleared": false,
    "source_hash": "55f9b844",
    "tags": []
   },
   "outputs": [],
   "source": [
    "# test\n",
    "test_nlm = NLM(prior_variance,\n",
    "               y_noise_variance,\n",
    "               regularization_param_nlm, \n",
    "               nlm_architecture, \n",
    "               random_state = random_seed)"
   ]
  },
  {
   "cell_type": "code",
   "execution_count": 5,
   "metadata": {
    "cell_id": "00005-3b5e8825-04a1-4a79-80e0-44a0bbabf7d5",
    "deepnote_cell_type": "code",
    "execution_millis": 529103,
    "execution_start": 1607622858999,
    "output_cleared": false,
    "source_hash": "d851cdec",
    "tags": []
   },
   "outputs": [
    {
     "name": "stdout",
     "output_type": "stream",
     "text": [
      " Iteration 0 lower bound 5420.114630134195; gradient mag: 13379.632971391264\n",
      "Done Training\n",
      "0.659 Seconds, 579.9754408251567 MSE\n"
     ]
    }
   ],
   "source": [
    "\n",
    "t0 = time.time()\n",
    "test_nlm.train(x_train,y_train, opt_params)\n",
    "nlm_time = np.round(time.time() - t0, 3)\n",
    "nlm_mse = test_nlm.ff.objective_trace.min()\n",
    "\n",
    "print(f\"{nlm_time} Seconds, {nlm_mse} MSE\")"
   ]
  },
  {
   "cell_type": "code",
   "execution_count": 42,
   "metadata": {},
   "outputs": [],
   "source": [
    "def viz_pp_samples(x_train,y_train,x_test,posterior_predictive_samples,title_text, multi=None, ylim = [-150,150],gen_func=utils.default_gen_func):\n",
    "    \n",
    "    if multi ==None:\n",
    "        fig, ax = plt.subplots(1, 1, figsize=(10,10))\n",
    "    \n",
    "    else:\n",
    "        ax = multi\n",
    "        \n",
    "    # Compute the 97.5 th percentile of the posterior predictive predictions\n",
    "    pp_upper = np.percentile(posterior_predictive_samples, 97.5, axis=0)\n",
    "\n",
    "    # Compute the 2.5 th percentile of the posterior predictive predictions\n",
    "    pp_lower = np.percentile(posterior_predictive_samples, 2.5, axis=0)\n",
    "\n",
    "    # Compute the 50 th percentile of the posterior predictive predictions\n",
    "    pp_mean = np.mean(posterior_predictive_samples, axis=0)\n",
    "\n",
    "    ax.plot(x_test, pp_mean, color='blue', label = 'mean prediction') # visualize the mean of the posterior predictive\n",
    "    ax.fill_between(x_test, pp_upper, pp_lower, color='blue', alpha=0.3, label='95% Conf. Interval') # visualize the 95% posterior predictive interval\n",
    "    ax.scatter(x_train, y_train, color='red', label='training data') # visualize the training data\n",
    "    \n",
    "    ax.plot(x_test,[gen_func(x) for x in x_test], color = 'black', label = 'true function')\n",
    "    ax.set_title(title_text)\n",
    "    ax.set_ylim(ylim)\n",
    "    \n",
    "    if multi == None:\n",
    "        ax.legend()\n",
    "        return fig\n",
    "    else:\n",
    "        return ax"
   ]
  },
  {
   "cell_type": "code",
   "execution_count": 47,
   "metadata": {
    "cell_id": "00013-c0577f9a-c72e-4bbb-8ab5-0eb12eb64c22",
    "deepnote_cell_type": "code",
    "execution_millis": 243,
    "execution_start": 1607623388163,
    "output_cleared": false,
    "source_hash": "2d84a433",
    "tags": []
   },
   "outputs": [
    {
     "data": {
      "image/png": "[encoded data removed]",
      "text/plain": [
       "<Figure size 720x360 with 2 Axes>"
      ]
     },
     "metadata": {
      "needs_background": "light"
     },
     "output_type": "display_data"
    },
    {
     "data": {
      "text/plain": [
       "<Figure size 432x288 with 0 Axes>"
      ]
     },
     "metadata": {},
     "output_type": "display_data"
    }
   ],
   "source": [
    "fig,ax = plt.subplots(1,2 ,figsize=(10,5))\n",
    "i = 0\n",
    "for predictive_name, boolean in {\"prior NLM\":True, \"posterior NLM\":False}.items():\n",
    "    predictives, predictive_samples = test_nlm.predict(x_test,prior = boolean)\n",
    "    viz_pp_samples(x_train, y_train,x_test.flatten(),predictive_samples,predictive_name, ax[i])\n",
    "    i +=1\n",
    "plt.legend()\n",
    "plt.savefig(\"figs/test2\")\n",
    "plt.show()\n",
    "\n",
    "\n",
    "#single_plot = viz_pp_samples(x_train, y_train,x_test.flatten(),predictive_samples,predictive_name)\n",
    "#single_plot.savefig(\"figs/test\")\n"
   ]
  },
  {
   "cell_type": "code",
   "execution_count": null,
   "metadata": {},
   "outputs": [],
   "source": [
    "from autograd import scipy as sp\n",
    "import math\n",
    "        \n",
    "test_nlm.get_log_l(x_train,y_train,x_valid,y_valid)"
   ]
  },
  {
   "cell_type": "markdown",
   "metadata": {},
   "source": [
    "## testing log likilihood"
   ]
  },
  {
   "cell_type": "code",
   "execution_count": null,
   "metadata": {},
   "outputs": [],
   "source": [
    "# we should VERIFY that log likelihood at 5000 is greater than 1000\n",
    "i_params = opt_params.copy()\n",
    "for i in [10,100,200,300,400,1000]:\n",
    "    i_params['max_iteration'] = i\n",
    "    test_nlm.train(x_train,y_train, i_params)\n",
    "    print(test_nlm.get_log_l(x_train,y_train,x_valid,y_valid))"
   ]
  },
  {
   "cell_type": "code",
   "execution_count": null,
   "metadata": {},
   "outputs": [],
   "source": [
    "# looks good\n",
    "print(opt_params['max_iteration'])\n",
    "i_architecture = architecture.copy()\n",
    "for i in [1,2,5,10,50]:\n",
    "    print(f\"\\n width: {i}\")\n",
    "    i_architecture['width'] = i\n",
    "    test_nlm_i = NLM(prior_var,y_var, regularization_param_nlm,i_architecture, random_state = np.random.RandomState(0))\n",
    "    test_nlm_i.train(x_train,y_train, opt_params)\n",
    "    print(test_nlm_i.get_log_l(x_train,y_train,x_valid,y_valid))"
   ]
  },
  {
   "cell_type": "code",
   "execution_count": null,
   "metadata": {},
   "outputs": [],
   "source": []
  }
 ],
 "metadata": {
  "deepnote_execution_queue": [],
  "deepnote_notebook_id": "bd9b06a9-900b-4258-b9d3-f28f55059097",
  "kernelspec": {
   "display_name": "Python 3",
   "language": "python",
   "name": "python3"
  },
  "language_info": {
   "codemirror_mode": {
    "name": "ipython",
    "version": 3
   },
   "file_extension": ".py",
   "mimetype": "text/x-python",
   "name": "python",
   "nbconvert_exporter": "python",
   "pygments_lexer": "ipython3",
   "version": "3.7.3"
  },
  "varInspector": {
   "cols": {
    "lenName": 16,
    "lenType": 16,
    "lenVar": 40
   },
   "kernels_config": {
    "python": {
     "delete_cmd_postfix": "",
     "delete_cmd_prefix": "del ",
     "library": "var_list.py",
     "varRefreshCmd": "print(var_dic_list())"
    },
    "r": {
     "delete_cmd_postfix": ") ",
     "delete_cmd_prefix": "rm(",
     "library": "var_list.r",
     "varRefreshCmd": "cat(var_dic_list()) "
    }
   },
   "types_to_exclude": [
    "module",
    "function",
    "builtin_function_or_method",
    "instance",
    "_Feature"
   ],
   "window_display": false
  }
 },
 "nbformat": 4,
 "nbformat_minor": 4
}
